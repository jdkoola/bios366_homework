{
 "metadata": {
  "name": "",
  "signature": "sha256:7a2b86d6e37b4091ae4dbc377b8170279522cf88fc20d312077e4cbe2a60aa29"
 },
 "nbformat": 3,
 "nbformat_minor": 0,
 "worksheets": [
  {
   "cells": [
    {
     "cell_type": "markdown",
     "metadata": {},
     "source": [
      "Answer all questions and submit them either as an IPython notebook, LaTeX document, or Markdown document. Each question is worth 25 points.\n",
      "\n",
      "This homework is due Tuesday, Sep. 23, 2014."
     ]
    },
    {
     "cell_type": "code",
     "collapsed": false,
     "input": [
      "%matplotlib inline\n",
      "import matplotlib.pyplot as plt\n",
      "import pandas as pd\n",
      "import numpy as np"
     ],
     "language": "python",
     "metadata": {},
     "outputs": [],
     "prompt_number": 1
    },
    {
     "cell_type": "markdown",
     "metadata": {},
     "source": [
      "## Question 1\n",
      "\n",
      "The data below provides counts of a flour beetle (Tribolium confusum) population at various points in time:"
     ]
    },
    {
     "cell_type": "code",
     "collapsed": false,
     "input": [
      "days = 0,8,28,41,63,79,97,117,135,154\n",
      "beetles = 2,47,192,256,768,896,1120,896,1184,1024"
     ],
     "language": "python",
     "metadata": {},
     "outputs": [],
     "prompt_number": 2
    },
    {
     "cell_type": "markdown",
     "metadata": {},
     "source": [
      "An elementary model for population growth is the logistic model:\n",
      "\n",
      "$$\\frac{dN}{dt} = rN\\left(1 - \\frac{N}{K}\\right)$$\n",
      "\n",
      "where $N$ is population size, $t$ is time, $r$ is a growth rate parameter, and $K$ is a parameter that represents the population carrying capacity of the environment. The solution to this differential equation is given by: \n",
      "\n",
      "$$N_t = f(t) = \\frac{KN_0}{N_0 + (K - N_0)\\exp(-rt)}$$\n",
      "\n",
      "where $N_t$ denotes the population size at time $t$. \n",
      "\n",
      "1. Fit the logistic growth model to the flour beetle data using optimization to minimize the sum of squared errors between model predictions and observed counts.\n",
      "\n",
      "2. In many population modeling applications, an assumption of lognormality is adopted. The simplest assumption would be that the $\\log(N_t)$ are independent and normally distributed with mean $\\log[f(t)]$ and variance $\\sigma^2$. Find the MLEs under this assumption, and provide estimates of standard errors and correlation between them."
     ]
    },
    {
     "cell_type": "heading",
     "level": 3,
     "metadata": {},
     "source": [
      "Doing part 1 using Nelder-Mead"
     ]
    },
    {
     "cell_type": "code",
     "collapsed": false,
     "input": [
      "# USING NELDER-MEAD SIMPLEX\n",
      "from scipy import optimize\n",
      "\n",
      "def SSE(theta, N0, ts): \n",
      "    K = theta[0]\n",
      "    r = theta[1]\n",
      "    N_predicted = [K*N0/(N0 + (K-N0) * np.exp(-r*t)) for t in ts]\n",
      "    SSE = np.array(beetles) - np.array(N_predicted)\n",
      "    SSE = np.sqrt(np.dot(SSE, SSE))\n",
      "    return SSE\n",
      "\n",
      "N0 = beetles[0]\n",
      "results = optimize.fmin(SSE, np.array([1000, 1]), args=(N0, days))\n",
      "\n",
      "print \"Using Nelson-Mead Simplex, K = \" + str(results[0]) + \" and r = \" + str(results[1])\n",
      "K = results[0]\n",
      "r = results[1]\n",
      "beetles_predicted_OLS = [K * N0 / (N0+(K - N0)*np.exp(-r*t)) for t in days]"
     ],
     "language": "python",
     "metadata": {},
     "outputs": [
      {
       "output_type": "stream",
       "stream": "stdout",
       "text": [
        "Optimization terminated successfully.\n",
        "         Current function value: 288.514274\n",
        "         Iterations: 72\n",
        "         Function evaluations: 137\n",
        "Using Nelson-Mead Simplex, K = 1033.51532664 and r = 0.11795856517\n"
       ]
      }
     ],
     "prompt_number": 3
    },
    {
     "cell_type": "heading",
     "level": 3,
     "metadata": {},
     "source": [
      "Doing part 2 using MLE..."
     ]
    },
    {
     "cell_type": "code",
     "collapsed": false,
     "input": [
      "\n",
      "from scipy import stats\n",
      "from sympy import *\n",
      "\n",
      "\n",
      "lognorm_pdf = lambda x, loc, scale: 1/(x*scale*np.sqrt(2*np.pi))*np.exp(-(np.log(x)-loc)**2/(2*scale**2))\n",
      "\n",
      "lognorm_logpdf = lambda x, loc, scale: -np.log(x) - np.log(scale) - np.log(np.sqrt(2*np.pi)) - (np.log(x)-loc)**2/(2*scale**2)\n",
      "\n",
      "growth_model_as_mu = lambda x, N0, K, r: np.log(K*N0) - np.log(N0 + (K-N0)*np.exp(-r*x))\n",
      "\n",
      "def lognorm_log_lik(theta, N0, Xs):\n",
      "    # theta[0] = K\n",
      "    # theta[1] = r\n",
      "    # theta[2] = sigma\n",
      "    loglik = 0\n",
      "    for x in Xs:\n",
      "        mu = growth_model_as_mu(x, N0, theta[0], theta[1])\n",
      "        # loglik += np.log(lognorm_pdf(x, mu, theta[2]))        \n",
      "        loglik += lognorm_logpdf(x, mu, theta[2])\n",
      "    return -loglik\n",
      "\n",
      "N0 = beetles[0]\n",
      "results = optimize.fmin(lognorm_log_lik, np.array([1000, 1, 1]), args=(N0, beetles))\n",
      "K = results[0]\n",
      "r = results[1]\n",
      "beetles_predicted_MLE = [K * N0 / (N0+(K - N0)*np.exp(-r*t)) for t in days]\n",
      "print(\"Assuming log normality and using MLE, the K = \" + str(K) + \" and r = \" + str(r))"
     ],
     "language": "python",
     "metadata": {},
     "outputs": [
      {
       "output_type": "stream",
       "stream": "stdout",
       "text": [
        "Optimization terminated successfully.\n",
        "         Current function value: 65.498148\n",
        "         Iterations: 196\n",
        "         Function evaluations: 351\n",
        "Assuming log normality and using MLE, the K = 671.293559369 and r = 0.0684251691799\n"
       ]
      }
     ],
     "prompt_number": 4
    },
    {
     "cell_type": "heading",
     "level": 3,
     "metadata": {},
     "source": [
      "Summary plots to compare the methods..."
     ]
    },
    {
     "cell_type": "code",
     "collapsed": false,
     "input": [
      "import matplotlib.patches as mpatches\n",
      "\n",
      "red_patch = mpatches.Patch(color='red', label='The red data')\n",
      "growth_plot_OBS, = plt.plot(days, beetles,               'r-', label='Observed', linewidth=2.0, marker='+', markersize=10.0, mew=2.0)\n",
      "growth_plot_MLE, = plt.plot(days, beetles_predicted_MLE, 'b-', label='MLE', linewidth=2.0, marker='+', markersize=10.0, mew=2.0)\n",
      "growth_plot_OLS, = plt.plot(days, beetles_predicted_OLS, 'g-', label='OLS', linewidth=2.0, marker='+', markersize=10.0, mew=2.0)\n",
      "l1=plt.legend( [\"Observed\", \"OLS\", \"MLE\"], loc=2)"
     ],
     "language": "python",
     "metadata": {},
     "outputs": [
      {
       "metadata": {},
       "output_type": "display_data",
       "png": "[encoded data removed]",
       "text": [
        "<matplotlib.figure.Figure at 0x82eded0>"
       ]
      }
     ],
     "prompt_number": 5
    },
    {
     "cell_type": "markdown",
     "metadata": {},
     "source": [
      "## Question 2\n",
      "\n",
      "1. Implement simulated annealing for minimizing the AIC for the baseball salary regression problem. Model your algorithm on the example given in class. \n",
      "\n",
      "    1. Compare the effects of different cooling schedules (different temperatures and different durations at each temperature).  \n",
      "    2. Compare the effect of a proposal distribution that is discrete uniform over 2-neighborhoods versus one that is discrete uniform over 3-neighborhoods.\n",
      "\n",
      "2. Implement a genetic algorithm for minimizing the AIC for the baseball salary regression problem. Model your algorithm on Example 3.5. \n",
      "\n",
      "    1. Compare the effects of using different mutation rates.  \n",
      "    2. Compare the effects of using different generation sizes.  \n",
      "    3. Instead of the selection mechanism used in the class example, try using independent selection of both parents with probabilities proportional to their fitness.\n",
      "\n"
     ]
    },
    {
     "cell_type": "heading",
     "level": 2,
     "metadata": {},
     "source": [
      "Part 1"
     ]
    },
    {
     "cell_type": "code",
     "collapsed": false,
     "input": [
      "import numpy as np\n",
      "import pandas as pd\n",
      "%matplotlib inline\n",
      "import matplotlib.pyplot as plt\n",
      "import pandas as pd\n",
      "import numpy as np\n",
      "import scipy\n",
      "\n",
      "aic = lambda g: g.nobs * np.log((g.resid**2).sum()/g.nobs) + 2*len(g.beta)\n",
      "\n",
      "def cooling_schedule(tau_start, times, period_length):\n",
      "    cooling = np.concatenate([[times[i]]*period_length for i in xrange(times.size)])\n",
      "    periods = period_length * times.size\n",
      "    tau = [tau_start * 0.9**i for i in range(periods)]\n",
      "    return (periods, cooling, tau)\n",
      "\n",
      "def Baseball_predictor_propose(solution_current, neighborhood_size = 1):\n",
      "#    ncols = solution_step.size\n",
      "    solution_step = solution_current.copy()\n",
      "    flip = random.sample( np.arange(0, solution_step.size), neighborhood_size)\n",
      "    solution_step[flip] =  ~ solution_current[flip]\n",
      "    return solution_step\n",
      "    \n",
      "def AIC_minimize(predictors, logsalary, periods, cooling, tau, neighborhood_size=1):    \n",
      "    aic_values = []\n",
      "    nrows, ncols = predictors.shape\n",
      "    solution_current = solution_best = np.random.binomial(1, 0.5, ncols).astype(bool)\n",
      "    solution_vars = predictors[predictors.columns[solution_current]]\n",
      "    g = pd.ols(y=logsalary, x=solution_vars)\n",
      "    aic_best = aic(g)\n",
      "    aic_values.append(aic_best)\n",
      "    for j in range(periods):\n",
      "        for i in range(cooling[j]):\n",
      "            solution_step = Baseball_predictor_propose(solution_current, neighborhood_size)\n",
      "            solution_vars = predictors[predictors.columns[solution_step]]\n",
      "            g = pd.ols(y=logsalary, x=solution_vars)\n",
      "            aic_step = aic(g)\n",
      "            alpha = min(1, np.exp((aic_values[-1] - aic_step)/tau[j]))\n",
      "\n",
      "            if ((aic_step < aic_values[-1]) or (np.random.uniform() < alpha)):\n",
      "                # Accept proposed solution\n",
      "                solution_current = solution_step.copy()\n",
      "                aic_values.append(aic_step)\n",
      "                if aic_step < aic_best:\n",
      "                    # Replace previous best with this one\n",
      "                    aic_best = aic_step\n",
      "                    solution_best = solution_step.copy()\n",
      "            else:\n",
      "                # Retain current solution\n",
      "                aic_values.append(aic_values[-1])\n",
      "    return (aic_best, solution_best, aic_values)\n",
      "\n",
      "def AIC_output(aic_best, solution_best, aic_values):\n",
      "    plt.plot(aic_values)\n",
      "    plt.xlim(0, len(aic_values))\n",
      "    plt.xlabel('Iteration')\n",
      "    plt.ylabel('AIC')\n",
      "    print('Best AIC: {0}\\nBest solution: {1}\\nDiscovered at iteration {2}'.format(aic_best, \n",
      "                np.where(solution_best==True),\n",
      "                np.where(aic_values==aic_best)[0][0]))\n",
      "    plt.plot(np.where(aic_values==aic_best)[0][0], aic_best, 'ro')\n"
     ],
     "language": "python",
     "metadata": {},
     "outputs": [],
     "prompt_number": 60
    },
    {
     "cell_type": "code",
     "collapsed": false,
     "input": [
      "baseball = pd.read_table('../../Bios366/data/textbook/baseball.dat', sep='\\s+')\n",
      "logsalary = baseball.salary.apply(np.log)\n",
      "predictors = baseball.ix[:, 'average':]\n"
     ],
     "language": "python",
     "metadata": {},
     "outputs": [],
     "prompt_number": 42
    },
    {
     "cell_type": "heading",
     "level": 3,
     "metadata": {},
     "source": [
      "Let's try with some other starting params"
     ]
    },
    {
     "cell_type": "code",
     "collapsed": false,
     "input": [
      "tau_start = 10\n",
      "times = np.array([20, 240, 700])\n",
      "period_length = 5\n",
      "\n",
      "periods, cooling, tau = cooling_schedule(tau_start, times, period_length)\n",
      "aic_best, solution_best, aic_values = AIC_minimize(predictors, logsalary, periods, cooling, tau)\n",
      "AIC_output(aic_best, solution_best, aic_values)"
     ],
     "language": "python",
     "metadata": {},
     "outputs": [
      {
       "output_type": "stream",
       "stream": "stdout",
       "text": [
        "Best AIC: -418.9420793\n",
        "Best solution: (array([ 0,  2,  5,  7,  9, 12, 13, 14, 15, 23, 24, 25]),)\n",
        "Discovered at iteration 3232\n"
       ]
      },
      {
       "metadata": {},
       "output_type": "display_data",
       "png": "[encoded data removed]",
       "text": [
        "<matplotlib.figure.Figure at 0xf22c090>"
       ]
      }
     ],
     "prompt_number": 36
    },
    {
     "cell_type": "code",
     "collapsed": false,
     "input": [
      "tau_start = 10\n",
      "times = np.array([20, 50, 90])\n",
      "period_length = 5\n",
      "\n",
      "periods, cooling, tau = cooling_schedule(tau_start, times, period_length)\n",
      "aic_best, solution_best, aic_values = AIC_minimize(predictors, logsalary, periods, cooling, tau)\n",
      "AIC_output(aic_best, solution_best, aic_values)"
     ],
     "language": "python",
     "metadata": {},
     "outputs": [
      {
       "output_type": "stream",
       "stream": "stdout",
       "text": [
        "Best AIC: -416.611888647\n",
        "Best solution: (array([ 2,  5,  7,  9, 12, 13, 19, 20, 21, 23, 24]),)\n",
        "Discovered at iteration 728\n"
       ]
      },
      {
       "metadata": {},
       "output_type": "display_data",
       "png": "[encoded data removed]",
       "text": [
        "<matplotlib.figure.Figure at 0x109ce3150>"
       ]
      }
     ],
     "prompt_number": 12
    },
    {
     "cell_type": "code",
     "collapsed": false,
     "input": [
      "tau_start = 10\n",
      "times = np.array([20, 120, 200])\n",
      "period_length = 5\n",
      "\n",
      "periods, cooling, tau = cooling_schedule(tau_start, times, period_length)\n",
      "\n",
      "# over ride the tau's and make our own\n",
      "tau = scipy.stats.randint(low=1, high=25).rvs(size=15)\n",
      "\n",
      "aic_best, solution_best, aic_values = AIC_minimize(predictors, logsalary, periods, cooling, tau)\n",
      "AIC_output(aic_best, solution_best, aic_values)"
     ],
     "language": "python",
     "metadata": {},
     "outputs": [
      {
       "output_type": "stream",
       "stream": "stdout",
       "text": [
        "Best AIC: -414.950557303\n",
        "Best solution: (array([ 2,  7,  9, 11, 12, 13, 14, 15, 19, 22, 24, 26]),)\n",
        "Discovered at iteration 716\n"
       ]
      },
      {
       "metadata": {},
       "output_type": "display_data",
       "png": "[encoded data removed]",
       "text": [
        "<matplotlib.figure.Figure at 0x6ba98b0>"
       ]
      }
     ],
     "prompt_number": 13
    },
    {
     "cell_type": "heading",
     "level": 3,
     "metadata": {},
     "source": [
      "Try starting parameters with 2-neighborhood"
     ]
    },
    {
     "cell_type": "code",
     "collapsed": false,
     "input": [
      "tau_start = 10\n",
      "times = np.array([60, 120, 220])\n",
      "period_length = 5\n",
      "neighborhood_size = 2\n",
      "\n",
      "periods, cooling, tau = cooling_schedule(tau_start, times, period_length)\n",
      "aic_best, solution_best, aic_values = AIC_minimize(predictors, logsalary, periods, cooling, tau, neighborhood_size)\n",
      "AIC_output(aic_best, solution_best, aic_values)"
     ],
     "language": "python",
     "metadata": {},
     "outputs": [
      {
       "output_type": "stream",
       "stream": "stdout",
       "text": [
        "Best AIC: -414.494392534\n",
        "Best solution: (array([ 1,  2,  7,  9, 12, 13, 14, 15, 19, 23]),)\n",
        "Discovered at iteration 1390\n"
       ]
      },
      {
       "metadata": {},
       "output_type": "display_data",
       "png": "[encoded data removed]",
       "text": [
        "<matplotlib.figure.Figure at 0xf399f10>"
       ]
      }
     ],
     "prompt_number": 43
    },
    {
     "cell_type": "heading",
     "level": 3,
     "metadata": {},
     "source": [
      "Try with 3-neighborhood"
     ]
    },
    {
     "cell_type": "code",
     "collapsed": false,
     "input": [
      "tau_start = 10\n",
      "times = np.array([60, 120, 220])\n",
      "period_length = 5\n",
      "neighborhood_size = 3\n",
      "\n",
      "periods, cooling, tau = cooling_schedule(tau_start, times, period_length)\n",
      "aic_best, solution_best, aic_values = AIC_minimize(predictors, logsalary, periods, cooling, tau, neighborhood_size)\n",
      "AIC_output(aic_best, solution_best, aic_values)"
     ],
     "language": "python",
     "metadata": {},
     "outputs": [
      {
       "output_type": "stream",
       "stream": "stdout",
       "text": [
        "Best AIC: -414.980330681\n",
        "Best solution: (array([ 1,  2,  3,  5,  7,  9, 11, 12, 13, 14, 15, 19, 24, 25]),)\n",
        "Discovered at iteration 1998\n"
       ]
      },
      {
       "metadata": {},
       "output_type": "display_data",
       "png": "[encoded data removed]",
       "text": [
        "<matplotlib.figure.Figure at 0xf298270>"
       ]
      }
     ],
     "prompt_number": 61
    },
    {
     "cell_type": "heading",
     "level": 2,
     "metadata": {},
     "source": [
      "Part 2"
     ]
    },
    {
     "cell_type": "code",
     "collapsed": false,
     "input": [
      "import numpy as np\n",
      "import pandas as pd\n",
      "%matplotlib inline\n",
      "import matplotlib.pyplot as plt\n",
      "import pandas as pd\n",
      "import numpy as np\n",
      "import scipy\n",
      "\n",
      "baseball = pd.read_table('../../Bios366/data/textbook/baseball.dat', sep='\\s+')\n",
      "logsalary = baseball.salary.apply(np.log)\n",
      "predictors = baseball.ix[:, 'average':]\n",
      "\n",
      "aic = lambda g: g.nobs * np.log((g.resid**2).sum()/g.nobs) + 2*len(g.beta)\n",
      "\n",
      "# CONSTANTS\n",
      "nrows, ncols = predictors.shape"
     ],
     "language": "python",
     "metadata": {},
     "outputs": [],
     "prompt_number": 13
    },
    {
     "cell_type": "code",
     "collapsed": false,
     "input": [
      "def calculate_fitness(aic_values):\n",
      "    P = len(aic_values)\n",
      "    aic_rank = (-aic_values).argsort().argsort()+1.\n",
      "    return 2.*aic_rank/(P*(P+1.))"
     ],
     "language": "python",
     "metadata": {},
     "outputs": [],
     "prompt_number": 14
    },
    {
     "cell_type": "code",
     "collapsed": false,
     "input": [
      "def Baseball_genetic(predictors, logsalary, current_gen, mutation_rate=0.02, iterations=100, pop_size = 20, \n",
      "                     mom_choice_func = None, dad_choice_func = None):\n",
      "    aic_best = []\n",
      "    best_solution = []\n",
      "    aic_history = []\n",
      "    \n",
      "    nrows, ncols = predictors.shape\n",
      "    \n",
      "    for i in range(iterations):\n",
      "\n",
      "        # Get phenotype\n",
      "        current_phe = [predictors[predictors.columns[g.astype(bool)]] for g in current_gen]\n",
      "        # Calculate AIC\n",
      "        current_aic = np.array([aic(pd.ols(y=logsalary, x=x)) for x in current_phe])\n",
      "        # Get lowest AIC\n",
      "        aic_best.append(current_aic[np.argmin(current_aic)])\n",
      "        best_solution.append(current_gen[np.argmin(current_aic)])\n",
      "\n",
      "        # Calculate fitness according to AIC rank\n",
      "        fitness = calculate_fitness(current_aic)\n",
      "\n",
      "        # Choose first parents according to fitness\n",
      "        if mom_choice_func is None:\n",
      "            moms = np.random.choice(range(pop_size), size=pop_size/2, p=fitness)\n",
      "        else:\n",
      "            moms = mom_choice_func(pop_size, fitness)\n",
      "        # Choose second parents randomly\n",
      "        if dad_choice_func is None:\n",
      "            dads = np.random.choice(range(pop_size), size=pop_size/2)\n",
      "        else:\n",
      "            dads = dad_choice_func(pop_size, fitness)\n",
      "\n",
      "        next_gen = []\n",
      "        for x,y in zip(current_gen[moms], current_gen[dads]):\n",
      "            # Crossover\n",
      "            cross = np.random.randint(0, ncols)\n",
      "            child1 = np.r_[x[:cross], y[cross:]]\n",
      "            child2 = np.r_[y[:cross], x[cross:]]\n",
      "            # Mutate\n",
      "            m1 = np.random.binomial(1, mutation_rate, size=ncols).astype(bool)\n",
      "            child1[m1] = abs(child1[m1]-1)\n",
      "            m2 = np.random.binomial(1, mutation_rate, size=ncols)\n",
      "            child2[m2] = abs(child1[m2]-1)\n",
      "            next_gen += [child1, child2]\n",
      "\n",
      "        # Increment generation\n",
      "        current_gen = np.array(next_gen)\n",
      "        # Store AIC values\n",
      "        aic_history.append(current_aic)\n",
      "    return(aic_best)"
     ],
     "language": "python",
     "metadata": {},
     "outputs": [],
     "prompt_number": 34
    },
    {
     "cell_type": "heading",
     "level": 3,
     "metadata": {},
     "source": [
      "Run the default, initial, sensible values..."
     ]
    },
    {
     "cell_type": "code",
     "collapsed": false,
     "input": [
      "pop_size = 20\n",
      "iterations = 100\n",
      "mutation_rate = .02\n",
      "\n",
      "# Initialize genotype\n",
      "current_gen = np.random.binomial(1, 0.5, pop_size*ncols).reshape((pop_size, ncols))\n",
      "plt.plot(Baseball_genetic(predictors, logsalary, current_gen, mutation_rate=mutation_rate, iterations=iterations, pop_size=pop_size))"
     ],
     "language": "python",
     "metadata": {},
     "outputs": [
      {
       "metadata": {},
       "output_type": "pyout",
       "prompt_number": 21,
       "text": [
        "[<matplotlib.lines.Line2D at 0xf7af990>]"
       ]
      },
      {
       "metadata": {},
       "output_type": "display_data",
       "png": "[encoded data removed]",
       "text": [
        "<matplotlib.figure.Figure at 0xf55a630>"
       ]
      }
     ],
     "prompt_number": 21
    },
    {
     "cell_type": "heading",
     "level": 3,
     "metadata": {},
     "source": [
      "Try a very high mutation rate..."
     ]
    },
    {
     "cell_type": "code",
     "collapsed": false,
     "input": [
      "pop_size = 20\n",
      "iterations = 100\n",
      "mutation_rate = .5\n",
      "\n",
      "# Initialize genotype\n",
      "current_gen = np.random.binomial(1, 0.5, pop_size*ncols).reshape((pop_size, ncols))\n",
      "plt.plot(Baseball_genetic(predictors, logsalary, current_gen, mutation_rate=mutation_rate, iterations=iterations, pop_size=pop_size))"
     ],
     "language": "python",
     "metadata": {},
     "outputs": [
      {
       "metadata": {},
       "output_type": "pyout",
       "prompt_number": 18,
       "text": [
        "[<matplotlib.lines.Line2D at 0xf28b1d0>]"
       ]
      },
      {
       "metadata": {},
       "output_type": "display_data",
       "png": "[encoded data removed]",
       "text": [
        "<matplotlib.figure.Figure at 0x2e2f7b0>"
       ]
      }
     ],
     "prompt_number": 18
    },
    {
     "cell_type": "heading",
     "level": 3,
     "metadata": {},
     "source": [
      "Try with a large population size..."
     ]
    },
    {
     "cell_type": "code",
     "collapsed": false,
     "input": [
      "pop_size = 50\n",
      "iterations = 100\n",
      "mutation_rate = .02\n",
      "\n",
      "# Initialize genotype\n",
      "current_gen = np.random.binomial(1, 0.5, pop_size*ncols).reshape((pop_size, ncols))\n",
      "plt.plot(Baseball_genetic(predictors, logsalary, current_gen, mutation_rate=mutation_rate, iterations=iterations, pop_size=pop_size))"
     ],
     "language": "python",
     "metadata": {},
     "outputs": [
      {
       "metadata": {},
       "output_type": "pyout",
       "prompt_number": 19,
       "text": [
        "[<matplotlib.lines.Line2D at 0xf580e10>]"
       ]
      },
      {
       "metadata": {},
       "output_type": "display_data",
       "png": "[encoded data removed]",
       "text": [
        "<matplotlib.figure.Figure at 0x83b5110>"
       ]
      }
     ],
     "prompt_number": 19
    },
    {
     "cell_type": "heading",
     "level": 3,
     "metadata": {},
     "source": [
      "Try selecting both parents based on fitness (we might get the same parent chosen for mom and dad!!)"
     ]
    },
    {
     "cell_type": "code",
     "collapsed": false,
     "input": [
      "parent_choice_by_fitness = lambda pop_size, probability: np.random.choice(range(pop_size), size=pop_size/2, p=probability)\n",
      "pop_size = 20\n",
      "iterations = 100\n",
      "mutation_rate = .02\n",
      "\n",
      "# Initialize genotype\n",
      "current_gen = np.random.binomial(1, 0.5, pop_size*ncols).reshape((pop_size, ncols))\n",
      "plt.plot(Baseball_genetic(predictors, logsalary, current_gen, mutation_rate=mutation_rate, \n",
      "                          iterations=iterations, pop_size=pop_size,\n",
      "                          mom_choice_func = parent_choice_by_fitness,\n",
      "                          dad_choice_func = parent_choice_by_fitness))"
     ],
     "language": "python",
     "metadata": {},
     "outputs": [
      {
       "metadata": {},
       "output_type": "pyout",
       "prompt_number": 37,
       "text": [
        "[<matplotlib.lines.Line2D at 0x103ec390>]"
       ]
      },
      {
       "metadata": {},
       "output_type": "display_data",
       "png": "[encoded data removed]",
       "text": [
        "<matplotlib.figure.Figure at 0xfa5ced0>"
       ]
      }
     ],
     "prompt_number": 37
    },
    {
     "cell_type": "markdown",
     "metadata": {},
     "source": [
      "## Question 3\n",
      "\n",
      "Use the combinatorial optimization method of your choice to obtain a solution to the traveling salesman problem for the Brazilian cities described in the lecture notes, using minimum total distance as the criterion. Use the the first city listed in the dataset as \"home\" (*i.e.* the trip must start and end there. I will award 5 bonus points to the best solution!"
     ]
    },
    {
     "cell_type": "code",
     "collapsed": false,
     "input": [
      "def parse_latlon(x):\n",
      "    d, m, s = map(float, x.split(':'))\n",
      "    ms = m/60. + s/3600.\n",
      "    if d<0:\n",
      "        return d - ms\n",
      "    return d + ms\n",
      "\n",
      "cities =  pd.read_csv('../../Bios366/data/brasil_capitals.txt', \n",
      "                      names=['city','lat','lon'])[['lat','lon']].applymap(parse_latlon)"
     ],
     "language": "python",
     "metadata": {},
     "outputs": [],
     "prompt_number": 3
    },
    {
     "cell_type": "code",
     "collapsed": false,
     "input": [
      "def tour_distance(cities): # cities must be a pandas object\n",
      "    if  type(cities) != pd.core.frame.DataFrame:\n",
      "        raise TypeError(\"Cities is not a Pandas DataFrame!\")\n",
      "        \n",
      "    nCities = cities.shape[0]\n",
      "    if not nCities:\n",
      "        raise RuntimeError(\"Cities has 0 length!\")\n",
      "    lats_and_longs = cities.values\n",
      "    lats_and_longs_shifted = np.r_[lats_and_longs[2:nCities,:], lats_and_longs[1,:]]\n",
      "    print(lats_and_longs)\n",
      "    print(lats_and_longs_shifted)"
     ],
     "language": "python",
     "metadata": {},
     "outputs": [],
     "prompt_number": 29
    },
    {
     "cell_type": "code",
     "collapsed": false,
     "input": [
      "nCities = len(cities)\n",
      "tour = np.random.permutation(range(nCities))\n",
      "cities\n"
     ],
     "language": "python",
     "metadata": {},
     "outputs": [
      {
       "html": [
        "<div style=\"max-height:1000px;max-width:1500px;overflow:auto;\">\n",
        "<table border=\"1\" class=\"dataframe\">\n",
        "  <thead>\n",
        "    <tr style=\"text-align: right;\">\n",
        "      <th></th>\n",
        "      <th>lat</th>\n",
        "      <th>lon</th>\n",
        "    </tr>\n",
        "  </thead>\n",
        "  <tbody>\n",
        "    <tr>\n",
        "      <th>0 </th>\n",
        "      <td> 60.673333</td>\n",
        "      <td>  2.819722</td>\n",
        "    </tr>\n",
        "    <tr>\n",
        "      <th>1 </th>\n",
        "      <td> 51.066389</td>\n",
        "      <td>  0.038889</td>\n",
        "    </tr>\n",
        "    <tr>\n",
        "      <th>2 </th>\n",
        "      <td> 48.504444</td>\n",
        "      <td> -1.455833</td>\n",
        "    </tr>\n",
        "    <tr>\n",
        "      <th>3 </th>\n",
        "      <td> 44.302778</td>\n",
        "      <td> -2.529722</td>\n",
        "    </tr>\n",
        "    <tr>\n",
        "      <th>4 </th>\n",
        "      <td> 60.025000</td>\n",
        "      <td> -3.101944</td>\n",
        "    </tr>\n",
        "    <tr>\n",
        "      <th>5 </th>\n",
        "      <td> 38.543056</td>\n",
        "      <td> -3.717222</td>\n",
        "    </tr>\n",
        "    <tr>\n",
        "      <th>6 </th>\n",
        "      <td> 42.801944</td>\n",
        "      <td> -5.089167</td>\n",
        "    </tr>\n",
        "    <tr>\n",
        "      <th>7 </th>\n",
        "      <td> 35.209444</td>\n",
        "      <td> -5.795000</td>\n",
        "    </tr>\n",
        "    <tr>\n",
        "      <th>8 </th>\n",
        "      <td> 34.863056</td>\n",
        "      <td> -7.115000</td>\n",
        "    </tr>\n",
        "    <tr>\n",
        "      <th>9 </th>\n",
        "      <td> 34.881111</td>\n",
        "      <td> -8.053889</td>\n",
        "    </tr>\n",
        "    <tr>\n",
        "      <th>10</th>\n",
        "      <td> 63.903889</td>\n",
        "      <td> -8.761944</td>\n",
        "    </tr>\n",
        "    <tr>\n",
        "      <th>11</th>\n",
        "      <td> 35.735278</td>\n",
        "      <td> -9.665833</td>\n",
        "    </tr>\n",
        "    <tr>\n",
        "      <th>12</th>\n",
        "      <td> 67.810000</td>\n",
        "      <td> -9.974722</td>\n",
        "    </tr>\n",
        "    <tr>\n",
        "      <th>13</th>\n",
        "      <td> 48.360278</td>\n",
        "      <td>-10.212778</td>\n",
        "    </tr>\n",
        "    <tr>\n",
        "      <th>14</th>\n",
        "      <td> 38.510833</td>\n",
        "      <td>-12.971111</td>\n",
        "    </tr>\n",
        "    <tr>\n",
        "      <th>15</th>\n",
        "      <td> 56.096667</td>\n",
        "      <td>-15.596111</td>\n",
        "    </tr>\n",
        "    <tr>\n",
        "      <th>16</th>\n",
        "      <td> 47.929722</td>\n",
        "      <td>-15.779722</td>\n",
        "    </tr>\n",
        "    <tr>\n",
        "      <th>17</th>\n",
        "      <td> 49.253889</td>\n",
        "      <td>-16.678611</td>\n",
        "    </tr>\n",
        "    <tr>\n",
        "      <th>18</th>\n",
        "      <td> 43.937778</td>\n",
        "      <td>-19.920833</td>\n",
        "    </tr>\n",
        "    <tr>\n",
        "      <th>19</th>\n",
        "      <td> 40.337778</td>\n",
        "      <td>-20.319444</td>\n",
        "    </tr>\n",
        "    <tr>\n",
        "      <th>20</th>\n",
        "      <td> 54.646389</td>\n",
        "      <td>-20.442778</td>\n",
        "    </tr>\n",
        "    <tr>\n",
        "      <th>21</th>\n",
        "      <td> 43.207500</td>\n",
        "      <td>-22.902778</td>\n",
        "    </tr>\n",
        "    <tr>\n",
        "      <th>22</th>\n",
        "      <td> 46.636111</td>\n",
        "      <td>-23.547500</td>\n",
        "    </tr>\n",
        "    <tr>\n",
        "      <th>23</th>\n",
        "      <td> 49.273056</td>\n",
        "      <td>-25.427778</td>\n",
        "    </tr>\n",
        "    <tr>\n",
        "      <th>24</th>\n",
        "      <td> 48.549167</td>\n",
        "      <td>-27.596667</td>\n",
        "    </tr>\n",
        "    <tr>\n",
        "      <th>25</th>\n",
        "      <td> 51.230000</td>\n",
        "      <td>-30.033056</td>\n",
        "    </tr>\n",
        "  </tbody>\n",
        "</table>\n",
        "</div>"
       ],
       "metadata": {},
       "output_type": "pyout",
       "prompt_number": 30,
       "text": [
        "          lat        lon\n",
        "0   60.673333   2.819722\n",
        "1   51.066389   0.038889\n",
        "2   48.504444  -1.455833\n",
        "3   44.302778  -2.529722\n",
        "4   60.025000  -3.101944\n",
        "5   38.543056  -3.717222\n",
        "6   42.801944  -5.089167\n",
        "7   35.209444  -5.795000\n",
        "8   34.863056  -7.115000\n",
        "9   34.881111  -8.053889\n",
        "10  63.903889  -8.761944\n",
        "11  35.735278  -9.665833\n",
        "12  67.810000  -9.974722\n",
        "13  48.360278 -10.212778\n",
        "14  38.510833 -12.971111\n",
        "15  56.096667 -15.596111\n",
        "16  47.929722 -15.779722\n",
        "17  49.253889 -16.678611\n",
        "18  43.937778 -19.920833\n",
        "19  40.337778 -20.319444\n",
        "20  54.646389 -20.442778\n",
        "21  43.207500 -22.902778\n",
        "22  46.636111 -23.547500\n",
        "23  49.273056 -25.427778\n",
        "24  48.549167 -27.596667\n",
        "25  51.230000 -30.033056"
       ]
      }
     ],
     "prompt_number": 30
    },
    {
     "cell_type": "code",
     "collapsed": false,
     "input": [
      "cities_random = cities.iloc[np.random.permutation(range(nCities))]"
     ],
     "language": "python",
     "metadata": {},
     "outputs": [],
     "prompt_number": 31
    },
    {
     "cell_type": "code",
     "collapsed": false,
     "input": [
      "tour_distance(cities)"
     ],
     "language": "python",
     "metadata": {},
     "outputs": [
      {
       "ename": "ValueError",
       "evalue": "all the input arrays must have same number of dimensions",
       "output_type": "pyerr",
       "traceback": [
        "\u001b[1;31m---------------------------------------------------------------------------\u001b[0m\n\u001b[1;31mValueError\u001b[0m                                Traceback (most recent call last)",
        "\u001b[1;32m<ipython-input-32-96b6322dcdc5>\u001b[0m in \u001b[0;36m<module>\u001b[1;34m()\u001b[0m\n\u001b[1;32m----> 1\u001b[1;33m \u001b[0mtour_distance\u001b[0m\u001b[1;33m(\u001b[0m\u001b[0mcities\u001b[0m\u001b[1;33m)\u001b[0m\u001b[1;33m\u001b[0m\u001b[0m\n\u001b[0m",
        "\u001b[1;32m<ipython-input-29-8e375ddfc04a>\u001b[0m in \u001b[0;36mtour_distance\u001b[1;34m(cities)\u001b[0m\n\u001b[0;32m      7\u001b[0m         \u001b[1;32mraise\u001b[0m \u001b[0mRuntimeError\u001b[0m\u001b[1;33m(\u001b[0m\u001b[1;34m\"Cities has 0 length!\"\u001b[0m\u001b[1;33m)\u001b[0m\u001b[1;33m\u001b[0m\u001b[0m\n\u001b[0;32m      8\u001b[0m     \u001b[0mlats_and_longs\u001b[0m \u001b[1;33m=\u001b[0m \u001b[0mcities\u001b[0m\u001b[1;33m.\u001b[0m\u001b[0mvalues\u001b[0m\u001b[1;33m\u001b[0m\u001b[0m\n\u001b[1;32m----> 9\u001b[1;33m     \u001b[0mlats_and_longs_shifted\u001b[0m \u001b[1;33m=\u001b[0m \u001b[0mnp\u001b[0m\u001b[1;33m.\u001b[0m\u001b[0mr_\u001b[0m\u001b[1;33m[\u001b[0m\u001b[0mlats_and_longs\u001b[0m\u001b[1;33m[\u001b[0m\u001b[1;36m2\u001b[0m\u001b[1;33m:\u001b[0m\u001b[0mnCities\u001b[0m\u001b[1;33m,\u001b[0m\u001b[1;33m:\u001b[0m\u001b[1;33m]\u001b[0m\u001b[1;33m,\u001b[0m \u001b[0mlats_and_longs\u001b[0m\u001b[1;33m[\u001b[0m\u001b[1;36m1\u001b[0m\u001b[1;33m,\u001b[0m\u001b[1;33m:\u001b[0m\u001b[1;33m]\u001b[0m\u001b[1;33m]\u001b[0m\u001b[1;33m\u001b[0m\u001b[0m\n\u001b[0m\u001b[0;32m     10\u001b[0m     \u001b[1;32mprint\u001b[0m\u001b[1;33m(\u001b[0m\u001b[0mlats_and_longs\u001b[0m\u001b[1;33m)\u001b[0m\u001b[1;33m\u001b[0m\u001b[0m\n\u001b[0;32m     11\u001b[0m     \u001b[1;32mprint\u001b[0m\u001b[1;33m(\u001b[0m\u001b[0mlats_and_longs_shifted\u001b[0m\u001b[1;33m)\u001b[0m\u001b[1;33m\u001b[0m\u001b[0m\n",
        "\u001b[1;32mC:\\Anaconda\\lib\\site-packages\\numpy\\lib\\index_tricks.pyc\u001b[0m in \u001b[0;36m__getitem__\u001b[1;34m(self, key)\u001b[0m\n\u001b[0;32m    324\u001b[0m                 \u001b[0mobjs\u001b[0m\u001b[1;33m[\u001b[0m\u001b[0mk\u001b[0m\u001b[1;33m]\u001b[0m \u001b[1;33m=\u001b[0m \u001b[0mobjs\u001b[0m\u001b[1;33m[\u001b[0m\u001b[0mk\u001b[0m\u001b[1;33m]\u001b[0m\u001b[1;33m.\u001b[0m\u001b[0mastype\u001b[0m\u001b[1;33m(\u001b[0m\u001b[0mfinal_dtype\u001b[0m\u001b[1;33m)\u001b[0m\u001b[1;33m\u001b[0m\u001b[0m\n\u001b[0;32m    325\u001b[0m \u001b[1;33m\u001b[0m\u001b[0m\n\u001b[1;32m--> 326\u001b[1;33m         \u001b[0mres\u001b[0m \u001b[1;33m=\u001b[0m \u001b[0m_nx\u001b[0m\u001b[1;33m.\u001b[0m\u001b[0mconcatenate\u001b[0m\u001b[1;33m(\u001b[0m\u001b[0mtuple\u001b[0m\u001b[1;33m(\u001b[0m\u001b[0mobjs\u001b[0m\u001b[1;33m)\u001b[0m\u001b[1;33m,\u001b[0m \u001b[0maxis\u001b[0m\u001b[1;33m=\u001b[0m\u001b[0mself\u001b[0m\u001b[1;33m.\u001b[0m\u001b[0maxis\u001b[0m\u001b[1;33m)\u001b[0m\u001b[1;33m\u001b[0m\u001b[0m\n\u001b[0m\u001b[0;32m    327\u001b[0m         \u001b[1;32mreturn\u001b[0m \u001b[0mself\u001b[0m\u001b[1;33m.\u001b[0m\u001b[0m_retval\u001b[0m\u001b[1;33m(\u001b[0m\u001b[0mres\u001b[0m\u001b[1;33m)\u001b[0m\u001b[1;33m\u001b[0m\u001b[0m\n\u001b[0;32m    328\u001b[0m \u001b[1;33m\u001b[0m\u001b[0m\n",
        "\u001b[1;31mValueError\u001b[0m: all the input arrays must have same number of dimensions"
       ]
      }
     ],
     "prompt_number": 32
    },
    {
     "cell_type": "markdown",
     "metadata": {},
     "source": [
      "## Question 4\n",
      "\n",
      "Suppose $y$ has a binomial distribution with parameters $n$ and $p$, and we are interested in the log-odds value $\\theta = \\log(p/(1 \u2212 p))$. Our prior for $\\theta$ is that $\\theta \\sim N(\\mu, \\sigma^2)$. It follows that the posterior density of $\\theta$ is given, up to a proportionality constant, by:\n",
      "\n",
      "$$g(\\theta | y) \\propto \\frac{\\exp(y\\theta)}{(1 + exp(\\theta))^n} \\exp\\left[\\frac{-(\\theta \u2212 \\mu)^2}{2\\sigma^2}\\right]$$\n",
      "\n",
      "For example, suppose we are interested in learning about the probability that a possibly-biased coin lands heads when tossed. *A priori* we believe that the coin is fair, so we assign $\\theta$ a $N(0,.25)$ prior. We toss the coin $n = 5$ times and obtain $y = 5$ heads.\n",
      "\n",
      "1. Using a normal approximation to the posterior density, compute the probability that the coin is biased toward heads (i.e., that \u03b8 is posi- tive).\n",
      "2. Using the prior density as a proposal density, design a rejection algo- rithm for sampling from the posterior distribution. Using simulated draws from your algorithm, approximate the probability that the coin is biased toward heads.\n",
      "3. Using the prior density as a proposal density, simulate values from the posterior distribution using the SIR algorithm. Approximate the probability that the coin is biased toward heads."
     ]
    },
    {
     "cell_type": "code",
     "collapsed": false,
     "input": [],
     "language": "python",
     "metadata": {},
     "outputs": []
    }
   ],
   "metadata": {}
  }
 ]
}