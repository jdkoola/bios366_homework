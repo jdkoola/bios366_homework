{
 "cells": [
  {
   "cell_type": "markdown",
   "metadata": {},
   "source": [
    "Answer all questions and submit them either as an IPython notebook, LaTeX document, or Markdown document. Each question is worth 25 points.\n",
    "\n",
    "This homework is due on Friday, November 21, 2014."
   ]
  },
  {
   "cell_type": "markdown",
   "metadata": {},
   "source": [
    "## Question 1\n",
    "\n",
    "The `titanic.xls` spreadsheet in the `data` directory contains data regarding the passengers on the Titanic when it sank in 1912. A recent [Kaggle competition](http://www.kaggle.com/c/titanic-gettingStarted) was based on predicting survival for passengers based on the attributes in the passenger list. \n",
    "\n",
    "Use scikit-learn to build both a support vector classifier and a logistic regression model to predict survival on the Titanic. Use cross-validation to assess your models, and try to tune them to improve performance.\n",
    "\n",
    "Discuss the benefits and drawbacks of both approaches for application to such problems."
   ]
  },
  {
   "cell_type": "code",
   "execution_count": 1,
   "metadata": {
    "collapsed": false
   },
   "outputs": [],
   "source": [
    "# Write your work here\n",
    "import pandas as pd\n",
    "titanic = pd.read_excel('./titanic.xls')\n"
   ]
  },
  {
   "cell_type": "markdown",
   "metadata": {},
   "source": [
    "### We're going to use the first letter of the cabin to make a class"
   ]
  },
  {
   "cell_type": "code",
   "execution_count": 3,
   "metadata": {
    "collapsed": false
   },
   "outputs": [],
   "source": [
    "titanic['cabin_class'] = titanic.cabin.apply(lambda x: x[0] if (not pd.isnull(x)) else '0' )"
   ]
  },
  {
   "cell_type": "markdown",
   "metadata": {},
   "source": [
    "### Binarize the gender variable"
   ]
  },
  {
   "cell_type": "code",
   "execution_count": 4,
   "metadata": {
    "collapsed": false
   },
   "outputs": [],
   "source": [
    "titanic.sex = titanic.sex.replace({'female':0, 'male':1})"
   ]
  },
  {
   "cell_type": "markdown",
   "metadata": {},
   "source": [
    "### Take the destination variable and split it into people going to the states and people from abroad"
   ]
  },
  {
   "cell_type": "code",
   "execution_count": 5,
   "metadata": {
    "collapsed": false
   },
   "outputs": [],
   "source": [
    "def dest_in_US(dest):\n",
    "    states = ['AL', 'AK', 'AZ', 'AR', 'CA', 'CO', 'CT', 'DE', 'FL', 'GA', 'HI', 'ID', 'IL', 'IN', 'IA', 'KS', 'KY', 'LA', 'ME', 'MD', 'MA', 'MI', 'MN', 'MS', 'MO', 'MT', 'NE', 'NV', 'NH', 'NJ', 'NM', 'NY', 'NC', 'ND', 'OH', 'OK', 'OR', 'PA', 'RI', 'SC', 'SD', 'TN', 'TX', 'UT', 'VT', 'VA', 'WA', 'WV', 'WI', 'WY']\n",
    "    for state in states:\n",
    "        if dest.count(state) > 0:\n",
    "            return 1;\n",
    "    return 0;"
   ]
  },
  {
   "cell_type": "code",
   "execution_count": 6,
   "metadata": {
    "collapsed": false
   },
   "outputs": [],
   "source": [
    "titanic['home_dest_in_US']=titanic['home.dest'].apply(lambda x: dest_in_US(x) if (not pd.isnull(x)) else 'NaN')"
   ]
  },
  {
   "cell_type": "code",
   "execution_count": 7,
   "metadata": {
    "collapsed": false
   },
   "outputs": [],
   "source": [
    "titanic['embarked']=titanic.embarked.replace({'S':0, 'C':1, 'Q':2})"
   ]
  },
  {
   "cell_type": "markdown",
   "metadata": {},
   "source": [
    "### We'll choose our set of predictors"
   ]
  },
  {
   "cell_type": "code",
   "execution_count": 8,
   "metadata": {
    "collapsed": false
   },
   "outputs": [],
   "source": [
    "X0=titanic[['pclass', 'sex', 'sibsp', 'parch', 'fare', 'embarked', 'boat', 'cabin_class', 'home_dest_in_US']]"
   ]
  },
  {
   "cell_type": "markdown",
   "metadata": {},
   "source": [
    "### Let's center the fare variable"
   ]
  },
  {
   "cell_type": "code",
   "execution_count": 11,
   "metadata": {
    "collapsed": false
   },
   "outputs": [
    {
     "name": "stderr",
     "output_type": "stream",
     "text": [
      "C:\\Anaconda\\lib\\site-packages\\pandas\\core\\indexing.py:426: SettingWithCopyWarning: \n",
      "A value is trying to be set on a copy of a slice from a DataFrame.\n",
      "Try using .loc[row_indexer,col_indexer] = value instead\n",
      "\n",
      "See the caveats in the documentation: http://pandas.pydata.org/pandas-docs/stable/indexing.html#indexing-view-versus-copy\n",
      "  self.obj[item] = s\n"
     ]
    }
   ],
   "source": [
    "X0.loc[:,'fare'] = (X0['fare'] - X0['fare'].mean())/X0['fare'].std()"
   ]
  },
  {
   "cell_type": "markdown",
   "metadata": {},
   "source": [
    "### This is the outcome variable"
   ]
  },
  {
   "cell_type": "code",
   "execution_count": 13,
   "metadata": {
    "collapsed": false
   },
   "outputs": [],
   "source": [
    "Y=titanic.survived"
   ]
  },
  {
   "cell_type": "markdown",
   "metadata": {},
   "source": [
    "### Let's change the life boat variable to a set of dummy categorical predictors"
   ]
  },
  {
   "cell_type": "code",
   "execution_count": 14,
   "metadata": {
    "collapsed": false
   },
   "outputs": [],
   "source": [
    "from sklearn import preprocessing\n",
    "lb = preprocessing.LabelBinarizer()"
   ]
  },
  {
   "cell_type": "code",
   "execution_count": 15,
   "metadata": {
    "collapsed": false
   },
   "outputs": [
    {
     "data": {
      "text/plain": [
       "LabelBinarizer(neg_label=0, pos_label=1)"
      ]
     },
     "execution_count": 15,
     "metadata": {},
     "output_type": "execute_result"
    }
   ],
   "source": [
    "lb.fit(X0.boat.unique().astype(str))"
   ]
  },
  {
   "cell_type": "markdown",
   "metadata": {},
   "source": [
    "#### These are all the possible values for life boat"
   ]
  },
  {
   "cell_type": "code",
   "execution_count": 16,
   "metadata": {
    "collapsed": false
   },
   "outputs": [
    {
     "data": {
      "text/plain": [
       "array(['2', '11', 'nan', '3', '10', 'D', '4', '9', '6', 'B', '8', 'A', '5',\n",
       "       '7', 'C', '14', '2', '5 9', '13', '1', '15', '5 7', '8 10', '12',\n",
       "       '16', '13 15 B', 'C D', '15 16', '13 15'], \n",
       "      dtype='|S7')"
      ]
     },
     "execution_count": 16,
     "metadata": {},
     "output_type": "execute_result"
    }
   ],
   "source": [
    "X0.boat.unique().astype(str)"
   ]
  },
  {
   "cell_type": "code",
   "execution_count": 17,
   "metadata": {
    "collapsed": false
   },
   "outputs": [
    {
     "data": {
      "text/plain": [
       "29"
      ]
     },
     "execution_count": 17,
     "metadata": {},
     "output_type": "execute_result"
    }
   ],
   "source": [
    "X0.boat.unique().size"
   ]
  },
  {
   "cell_type": "markdown",
   "metadata": {},
   "source": [
    "#### Let's do some sanity checks ... "
   ]
  },
  {
   "cell_type": "code",
   "execution_count": 18,
   "metadata": {
    "collapsed": false
   },
   "outputs": [
    {
     "data": {
      "text/plain": [
       "array([[0, 0, 0, ..., 0, 0, 0],\n",
       "       [0, 0, 0, ..., 0, 0, 0],\n",
       "       [0, 0, 0, ..., 0, 0, 0],\n",
       "       ..., \n",
       "       [0, 0, 0, ..., 0, 0, 0],\n",
       "       [0, 0, 0, ..., 0, 0, 0],\n",
       "       [0, 0, 0, ..., 0, 0, 0]])"
      ]
     },
     "execution_count": 18,
     "metadata": {},
     "output_type": "execute_result"
    }
   ],
   "source": [
    "lb.transform(X0.boat.values)[pd.isnull(X0.boat.values),:]"
   ]
  },
  {
   "cell_type": "code",
   "execution_count": 19,
   "metadata": {
    "collapsed": false
   },
   "outputs": [],
   "source": [
    "lifeBoat_expanded = pd.DataFrame(lb.transform(X0.boat.values)[:,0:27], columns=['LB_' + x for x in lb.classes_[:-1]])"
   ]
  },
  {
   "cell_type": "markdown",
   "metadata": {},
   "source": [
    "### Let's binarize the cabin classs variable..."
   ]
  },
  {
   "cell_type": "code",
   "execution_count": 20,
   "metadata": {
    "collapsed": false
   },
   "outputs": [
    {
     "data": {
      "text/plain": [
       "LabelBinarizer(neg_label=0, pos_label=1)"
      ]
     },
     "execution_count": 20,
     "metadata": {},
     "output_type": "execute_result"
    }
   ],
   "source": [
    "cabinClassBinarizer = preprocessing.LabelBinarizer()\n",
    "cabinClassBinarizer.fit(X0.cabin_class.unique().astype(str))"
   ]
  },
  {
   "cell_type": "code",
   "execution_count": 21,
   "metadata": {
    "collapsed": false
   },
   "outputs": [],
   "source": [
    "cabinClassExpanded = pd.DataFrame(cabinClassBinarizer.transform(X0.cabin_class.values), columns=['CC_' + x for x in cabinClassBinarizer.classes_])"
   ]
  },
  {
   "cell_type": "code",
   "execution_count": 23,
   "metadata": {
    "collapsed": false
   },
   "outputs": [],
   "source": [
    "from sklearn.preprocessing import Imputer\n",
    "mean_imputer = Imputer(missing_values='NaN', strategy='mean', axis=1)\n",
    "median_imputer = Imputer(missing_values='NaN', strategy='median', axis=1)\n",
    "mode_imputer = Imputer(missing_values='NaN', strategy='most_frequent', axis=1)"
   ]
  },
  {
   "cell_type": "code",
   "execution_count": 24,
   "metadata": {
    "collapsed": false
   },
   "outputs": [
    {
     "data": {
      "text/plain": [
       "array([[ 1.],\n",
       "       [ 0.],\n",
       "       [ 0.],\n",
       "       ..., \n",
       "       [ 1.],\n",
       "       [ 1.],\n",
       "       [ 1.]])"
      ]
     },
     "execution_count": 24,
     "metadata": {},
     "output_type": "execute_result"
    }
   ],
   "source": [
    "mode_imputer.fit_transform(X0.home_dest_in_US.values).T"
   ]
  },
  {
   "cell_type": "code",
   "execution_count": 25,
   "metadata": {
    "collapsed": false
   },
   "outputs": [],
   "source": [
    "X0=X0[['pclass', 'sex', 'sibsp', 'parch', 'fare', 'embarked', 'home_dest_in_US']]"
   ]
  },
  {
   "cell_type": "code",
   "execution_count": 26,
   "metadata": {
    "collapsed": false
   },
   "outputs": [],
   "source": [
    "X0=pd.concat([X0, lifeBoat_expanded, cabinClassExpanded], axis=1)"
   ]
  },
  {
   "cell_type": "code",
   "execution_count": 27,
   "metadata": {
    "collapsed": false
   },
   "outputs": [],
   "source": [
    "X0.home_dest_in_US = mode_imputer.fit_transform(X0.home_dest_in_US).T"
   ]
  },
  {
   "cell_type": "code",
   "execution_count": 28,
   "metadata": {
    "collapsed": false
   },
   "outputs": [],
   "source": [
    "X0.fare = mean_imputer.fit_transform(X0.fare).T"
   ]
  },
  {
   "cell_type": "code",
   "execution_count": 29,
   "metadata": {
    "collapsed": false
   },
   "outputs": [],
   "source": [
    "X0.embarked = mode_imputer.fit_transform(X0.embarked).T"
   ]
  },
  {
   "cell_type": "markdown",
   "metadata": {},
   "source": [
    "Sanity check"
   ]
  },
  {
   "cell_type": "code",
   "execution_count": 30,
   "metadata": {
    "collapsed": false
   },
   "outputs": [
    {
     "data": {
      "text/plain": [
       "pclass             False\n",
       "sex                False\n",
       "sibsp              False\n",
       "parch              False\n",
       "fare               False\n",
       "embarked           False\n",
       "home_dest_in_US    False\n",
       "LB_1               False\n",
       "LB_10              False\n",
       "LB_11              False\n",
       "LB_12              False\n",
       "LB_13              False\n",
       "LB_13 15           False\n",
       "LB_13 15 B         False\n",
       "LB_14              False\n",
       "LB_15              False\n",
       "LB_15 16           False\n",
       "LB_16              False\n",
       "LB_2               False\n",
       "LB_3               False\n",
       "LB_4               False\n",
       "LB_5               False\n",
       "LB_5 7             False\n",
       "LB_5 9             False\n",
       "LB_6               False\n",
       "LB_7               False\n",
       "LB_8               False\n",
       "LB_8 10            False\n",
       "LB_9               False\n",
       "LB_A               False\n",
       "LB_B               False\n",
       "LB_C               False\n",
       "LB_C D             False\n",
       "LB_D               False\n",
       "CC_0               False\n",
       "CC_A               False\n",
       "CC_B               False\n",
       "CC_C               False\n",
       "CC_D               False\n",
       "CC_E               False\n",
       "CC_F               False\n",
       "CC_G               False\n",
       "CC_T               False\n",
       "dtype: bool"
      ]
     },
     "execution_count": 30,
     "metadata": {},
     "output_type": "execute_result"
    }
   ],
   "source": [
    "pd.isnull(X0).any()"
   ]
  },
  {
   "cell_type": "code",
   "execution_count": 32,
   "metadata": {
    "collapsed": false
   },
   "outputs": [],
   "source": [
    "from sklearn.cross_validation import train_test_split\n",
    "X_train, X_test, y_train, y_test = train_test_split(X0, Y)"
   ]
  },
  {
   "cell_type": "code",
   "execution_count": 33,
   "metadata": {
    "collapsed": false
   },
   "outputs": [],
   "source": [
    "from sklearn.linear_model import LogisticRegression\n",
    "\n",
    "lrmod = LogisticRegression(C=1000)\n",
    "lrmod.fit(X_train, y_train)\n",
    "\n",
    "pred_train = lrmod.predict(X_train)\n",
    "pred_test = lrmod.predict(X_test)"
   ]
  },
  {
   "cell_type": "code",
   "execution_count": 34,
   "metadata": {
    "collapsed": false
   },
   "outputs": [
    {
     "data": {
      "text/html": [
       "<div>\n",
       "<table border=\"1\" class=\"dataframe\">\n",
       "  <thead>\n",
       "    <tr style=\"text-align: right;\">\n",
       "      <th>Predicted</th>\n",
       "      <th>0</th>\n",
       "      <th>1</th>\n",
       "    </tr>\n",
       "    <tr>\n",
       "      <th>Actual</th>\n",
       "      <th></th>\n",
       "      <th></th>\n",
       "    </tr>\n",
       "  </thead>\n",
       "  <tbody>\n",
       "    <tr>\n",
       "      <th>0</th>\n",
       "      <td>582</td>\n",
       "      <td>6</td>\n",
       "    </tr>\n",
       "    <tr>\n",
       "      <th>1</th>\n",
       "      <td>19</td>\n",
       "      <td>374</td>\n",
       "    </tr>\n",
       "  </tbody>\n",
       "</table>\n",
       "</div>"
      ],
      "text/plain": [
       "Predicted    0    1\n",
       "Actual             \n",
       "0          582    6\n",
       "1           19  374"
      ]
     },
     "execution_count": 34,
     "metadata": {},
     "output_type": "execute_result"
    }
   ],
   "source": [
    "pd.crosstab(y_train, pred_train, \n",
    "            rownames=[\"Actual\"], colnames=[\"Predicted\"])"
   ]
  },
  {
   "cell_type": "code",
   "execution_count": 35,
   "metadata": {
    "collapsed": false
   },
   "outputs": [
    {
     "data": {
      "text/html": [
       "<div>\n",
       "<table border=\"1\" class=\"dataframe\">\n",
       "  <thead>\n",
       "    <tr style=\"text-align: right;\">\n",
       "      <th>Predicted</th>\n",
       "      <th>0</th>\n",
       "      <th>1</th>\n",
       "    </tr>\n",
       "    <tr>\n",
       "      <th>Actual</th>\n",
       "      <th></th>\n",
       "      <th></th>\n",
       "    </tr>\n",
       "  </thead>\n",
       "  <tbody>\n",
       "    <tr>\n",
       "      <th>0</th>\n",
       "      <td>218</td>\n",
       "      <td>3</td>\n",
       "    </tr>\n",
       "    <tr>\n",
       "      <th>1</th>\n",
       "      <td>4</td>\n",
       "      <td>103</td>\n",
       "    </tr>\n",
       "  </tbody>\n",
       "</table>\n",
       "</div>"
      ],
      "text/plain": [
       "Predicted    0    1\n",
       "Actual             \n",
       "0          218    3\n",
       "1            4  103"
      ]
     },
     "execution_count": 35,
     "metadata": {},
     "output_type": "execute_result"
    }
   ],
   "source": [
    "pd.crosstab(y_test, pred_test, rownames=['Actual'], colnames=['Predicted'])"
   ]
  },
  {
   "cell_type": "code",
   "execution_count": 36,
   "metadata": {
    "collapsed": false
   },
   "outputs": [],
   "source": [
    "import numpy as np\n",
    "n = 1000\n",
    "boot_samples = np.empty((n, len(lrmod.coef_[0])))\n",
    "\n",
    "for i in np.arange(n):\n",
    "    boot_ind = np.random.randint(0, len(X0), len(X0))\n",
    "    y_i, X_i = Y.values[boot_ind], X0.values[boot_ind]\n",
    "    \n",
    "    lrmod_i = LogisticRegression(C=1000)\n",
    "    lrmod_i.fit(X_i, y_i)\n",
    "\n",
    "    boot_samples[i] = lrmod_i.coef_[0]"
   ]
  },
  {
   "cell_type": "code",
   "execution_count": 37,
   "metadata": {
    "collapsed": false
   },
   "outputs": [],
   "source": [
    "boot_samples.sort(axis=0)"
   ]
  },
  {
   "cell_type": "code",
   "execution_count": 38,
   "metadata": {
    "collapsed": false
   },
   "outputs": [],
   "source": [
    "boot_se = boot_samples[[25, 975], :].T"
   ]
  },
  {
   "cell_type": "code",
   "execution_count": 39,
   "metadata": {
    "collapsed": false
   },
   "outputs": [
    {
     "data": {
      "text/plain": [
       "<matplotlib.lines.Line2D at 0x106a78d0>"
      ]
     },
     "execution_count": 39,
     "metadata": {},
     "output_type": "execute_result"
    },
    {
     "data": {
      "image/png": "[encoded data removed]",
      "text/plain": [
       "<matplotlib.figure.Figure at 0x104e4190>"
      ]
     },
     "metadata": {},
     "output_type": "display_data"
    }
   ],
   "source": [
    "%matplotlib inline\n",
    "import matplotlib.pyplot as plt\n",
    "\n",
    "coefs = lrmod.coef_[0]\n",
    "plt.figure(figsize=(14,6))\n",
    "plt.plot(coefs, 'r.')\n",
    "for i in range(len(coefs)):\n",
    "    plt.errorbar(x=[i,i], y=boot_se[i], color='red')\n",
    "plt.xlim(-0.5, 20)\n",
    "plt.xticks(range(len(coefs)), X0.columns.values, rotation=45)\n",
    "plt.axhline(0, color='k', linestyle='--')"
   ]
  },
  {
   "cell_type": "markdown",
   "metadata": {},
   "source": [
    "### Now do it with SVM"
   ]
  },
  {
   "cell_type": "code",
   "execution_count": 40,
   "metadata": {
    "collapsed": false
   },
   "outputs": [],
   "source": [
    "from sklearn import svm"
   ]
  },
  {
   "cell_type": "code",
   "execution_count": 41,
   "metadata": {
    "collapsed": false
   },
   "outputs": [
    {
     "data": {
      "text/plain": [
       "SVC(C=1.0, cache_size=200, class_weight=None, coef0=0.0, degree=3, gamma=0.0,\n",
       "  kernel='linear', max_iter=-1, probability=False, random_state=None,\n",
       "  shrinking=True, tol=0.001, verbose=False)"
      ]
     },
     "execution_count": 41,
     "metadata": {},
     "output_type": "execute_result"
    }
   ],
   "source": [
    "svc = svm.SVC(kernel='linear')\n",
    "svc.fit(X_train, y_train)"
   ]
  },
  {
   "cell_type": "code",
   "execution_count": 42,
   "metadata": {
    "collapsed": false
   },
   "outputs": [
    {
     "data": {
      "text/plain": [
       "0.97560975609756095"
      ]
     },
     "execution_count": 42,
     "metadata": {},
     "output_type": "execute_result"
    }
   ],
   "source": [
    "svc.score(X_test, y_test)"
   ]
  },
  {
   "cell_type": "markdown",
   "metadata": {},
   "source": [
    "## Question 2\n",
    "\n",
    "The data in `prostate.data.txt` come from a study by Stamey et al. (1989), which examined the correlation between the level of prostate-specific antigen (`lpsa`) and a number of clinical measures in men who were about to receive a radical prostatectomy. The variables are log cancer volume (`lcavol`), log prostate weight (`lweight`), age, log of the amount of benign prostatic hyperplasia (`lbph`), seminal vesicle invasion (`svi`), log of capsular penetration (`lcp`), Gleason score (`gleason`), and percent of Gleason scores 4 or 5 (`pgg45`). \n",
    "\n",
    "1. Select (your choice) five competing 3-variable linear regression models, and compare them using AIC, five-fold and ten-fold cross-validation. Discuss the results.\n",
    "\n",
    "2. An alternative method for model assessment is to fit the models on a set of bootstrap samples, and then keep track of how well it predicts the original training set. If $\\hat{f}^b(x_i)$ is the predicted value at $x_i$, from the model fitted to the bth bootstrap dataset, such an estimate is:\n",
    "$$\\frac{1}{B} \\frac{1}{N} \\sum_{b=1}^B \\sum_{i=1}^N L(y_i,\\hat{f}^b(x_i)) $$\n",
    "However, because the bootstrap samples tend to contain many observations in common among the set of bootstrap samples, this estimate will tend to underestimate the true error rate. The so-called .632 estimator aleviates this bias by returning a weighted average of the training error (average loss over the training sample) and the leave-one-out (LOO) bootstrap error:\n",
    "$$\\hat{err}^{(.632)} = 0.368 \\, \\bar{err} + 0.632 \\, \\hat{err}^{(1)}$$\n",
    "where:\n",
    "$$\\bar{err} = \\frac{1}{N}\\sum_{i=1}^N L(y_i, \\hat{f}(x_i)) $$\n",
    "Repeat the assesment from part (1) using the .632 estimator, and compare the result to the other approaches."
   ]
  },
  {
   "cell_type": "code",
   "execution_count": 43,
   "metadata": {
    "collapsed": false
   },
   "outputs": [],
   "source": [
    "import pandas as pd\n",
    "import numpy as np\n",
    "\n",
    "prostate = pd.read_table(\"./prostate.data.txt\", sep='\\s+')"
   ]
  },
  {
   "cell_type": "code",
   "execution_count": 44,
   "metadata": {
    "collapsed": false
   },
   "outputs": [],
   "source": [
    "Y = prostate.lpsa\n",
    "model1 = prostate[['lcavol', 'lweight', 'age']]\n",
    "model2 = prostate[['lcavol', 'lbph', 'svi']]\n",
    "model3 = prostate[['lweight', 'lcp', 'gleason']]\n",
    "model4 = prostate[['svi', 'lcp', 'pgg45']]\n",
    "model5 = prostate[['age', 'svi', 'pgg45']]"
   ]
  },
  {
   "cell_type": "code",
   "execution_count": 45,
   "metadata": {
    "collapsed": false
   },
   "outputs": [],
   "source": [
    "models = [model1, model2, model3, model4, model5]"
   ]
  },
  {
   "cell_type": "code",
   "execution_count": 46,
   "metadata": {
    "collapsed": false
   },
   "outputs": [],
   "source": [
    "from sklearn.linear_model import LinearRegression\n",
    "\n",
    "lreg1 = LinearRegression()\n"
   ]
  },
  {
   "cell_type": "code",
   "execution_count": 47,
   "metadata": {
    "collapsed": false
   },
   "outputs": [],
   "source": [
    "from sklearn.cross_validation import cross_val_score\n",
    "\n",
    "# we need to take the negative of cross_val_score because \n",
    "# cross_val_score returns the negative of mean_squared_error\n",
    "five_fold_CV_errors = [-cross_val_score(lreg1, model, Y, cv=5, scoring='mean_squared_error') for model in models]\n",
    "ten_fold_CV_errors = [-cross_val_score(lreg1, model, Y, cv=10, scoring='mean_squared_error') for model in models]\n",
    "\n",
    "def calc_AIC_for_linear_model(model, X, Y):\n",
    "    model.fit(X,Y)\n",
    "    rss = np.sum([x**2 for x in model.predict(X) - Y])\n",
    "    n = len(Y)\n",
    "    k = X.shape[1]\n",
    "    aic = n * np.log(float(rss)/n) + 2*k\n",
    "    return aic\n",
    "    \n",
    "aic_errors = [calc_AIC_for_linear_model(lreg1, model, Y) for model in models]\n"
   ]
  },
  {
   "cell_type": "code",
   "execution_count": 48,
   "metadata": {
    "collapsed": false
   },
   "outputs": [],
   "source": [
    "MSE_mean = pd.DataFrame({'5_Fold':np.mean(five_fold_CV_errors,axis=1), '10_Fold':np.mean(ten_fold_CV_errors,axis=1)}, index=pd.Index([1, 2,3, 4, 5], name='Model'))\n",
    "MSE_error = pd.DataFrame({'5_Fold':np.std(five_fold_CV_errors,axis=1), '10_Fold':np.std(ten_fold_CV_errors,axis=1)}, index=pd.Index([1, 2,3, 4, 5], name='Model'))"
   ]
  },
  {
   "cell_type": "code",
   "execution_count": 50,
   "metadata": {
    "collapsed": false
   },
   "outputs": [
    {
     "data": {
      "text/plain": [
       "<matplotlib.legend.Legend at 0x10acf850>"
      ]
     },
     "execution_count": 50,
     "metadata": {},
     "output_type": "execute_result"
    },
    {
     "name": "stderr",
     "output_type": "stream",
     "text": [
      "C:\\Anaconda\\lib\\site-packages\\matplotlib\\collections.py:548: FutureWarning: elementwise comparison failed; returning scalar instead, but in the future will perform elementwise comparison\n",
      "  if self._edgecolors == 'face':\n"
     ]
    },
    {
     "data": {
      "image/png": "[encoded data removed]",
      "text/plain": [
       "<matplotlib.figure.Figure at 0x10793bd0>"
      ]
     },
     "metadata": {},
     "output_type": "display_data"
    }
   ],
   "source": [
    "fig = plt.figure(figsize=(8,6))\n",
    "axes = fig.add_axes([0, 0, 1, 1]) # main axes\n",
    "ax=MSE_mean.plot(yerr = MSE_error, kind='bar', ax=axes, color=('#FF6699', '#33CC33'))\n",
    "ax.set_ylabel('Mean Squared Error')\n",
    "ax2 = ax.twinx()\n",
    "ax2.plot([0,1,2,3,4], aic_errors, color='#3399FF', linewidth=5)\n",
    "ax2.set_ylabel('AIC')\n",
    "plt.legend(['AIC'])"
   ]
  },
  {
   "cell_type": "markdown",
   "metadata": {},
   "source": [
    "### Part 2)"
   ]
  },
  {
   "cell_type": "code",
   "execution_count": 51,
   "metadata": {
    "collapsed": false
   },
   "outputs": [],
   "source": [
    "from sklearn.metrics import mean_squared_error\n",
    "\n",
    "def boot_sampled_error(estimator,X,Y):\n",
    "    nBootTrials = 1000\n",
    "    nBootSamples = len(Y)\n",
    "    mse_sum = 0\n",
    "    for i in np.arange(nBootTrials):\n",
    "        boot_ind = np.random.randint(0, high=len(Y), size=nBootSamples)\n",
    "        Y_i, X_i = Y.iloc[boot_ind], X.iloc[boot_ind]\n",
    "        estimator.fit(X_i, Y_i)\n",
    "        mse = mean_squared_error(Y, estimator.predict(X))\n",
    "        mse_sum += mse\n",
    "    return mse_sum / nBootTrials"
   ]
  },
  {
   "cell_type": "code",
   "execution_count": 52,
   "metadata": {
    "collapsed": false
   },
   "outputs": [
    {
     "name": "stdout",
     "output_type": "stream",
     "text": [
      "Model 1 error: 0.550061566365\n",
      "Model 2 error: 0.531092997681\n",
      "Model 3 error: 0.778966057238\n",
      "Model 4 error: 0.853734305136\n",
      "Model 5 error: 0.888176968723\n"
     ]
    }
   ],
   "source": [
    "print(\"Model 1 error: {0}\".format(boot_sampled_error(lreg1, models[0], Y)))\n",
    "print(\"Model 2 error: {0}\".format(boot_sampled_error(lreg1, models[1], Y)))\n",
    "print(\"Model 3 error: {0}\".format(boot_sampled_error(lreg1, models[2], Y)))\n",
    "print(\"Model 4 error: {0}\".format(boot_sampled_error(lreg1, models[3], Y)))\n",
    "print(\"Model 5 error: {0}\".format(boot_sampled_error(lreg1, models[4], Y)))"
   ]
  },
  {
   "cell_type": "markdown",
   "metadata": {},
   "source": [
    "### Part 2B)"
   ]
  },
  {
   "cell_type": "code",
   "execution_count": 53,
   "metadata": {
    "collapsed": false
   },
   "outputs": [],
   "source": [
    "from sklearn.cross_validation import LeaveOneOut\n",
    "\n",
    "def calc_632_estimator(estimator, X, Y):\n",
    "    nBootTrials = 1000\n",
    "    N = len(Y)\n",
    "    nBootSamples = N\n",
    "\n",
    "    # calculate err_bar\n",
    "    estimator.fit(X, Y)\n",
    "    training_error = np.sum((estimator.predict(X) - Y)**2) / N\n",
    "\n",
    "    # calculate err_hat\n",
    "    boot_ind = np.zeros((nBootTrials, nBootSamples), dtype=np.int32)\n",
    "    for i in np.arange(nBootTrials):\n",
    "        boot_ind[i,:] = np.random.randint(0, high=len(Y), size=nBootSamples)\n",
    "\n",
    "    boot_slices_without_i =  [[i not in boot_slice for boot_slice in boot_ind] for i in np.arange(N)]\n",
    "\n",
    "    LOO_bootstrap_error = 0\n",
    "    for i in np.arange(N):\n",
    "        # for each i collect the bootstrap samples that dont contain i\n",
    "        C_i = np.where(boot_slices_without_i[i])\n",
    "        n_C_i = C_i[0].size\n",
    "        sse = 0\n",
    "        for indicies in boot_ind[C_i]:\n",
    "            Y_i, X_i = Y.iloc[indicies], X.iloc[indicies]\n",
    "            estimator.fit(X_i, Y_i)\n",
    "\n",
    "            # the pandas DataFrame is indexed starting from 1, not 0\n",
    "            sse += (estimator.predict(X.iloc[i]) - Y.iloc[i])**2\n",
    "        if n_C_i > 0:\n",
    "            LOO_bootstrap_error += sse / n_C_i\n",
    "    LOO_bootstrap_error /= N\n",
    "    return 0.368 * training_error + .632 * LOO_bootstrap_error"
   ]
  },
  {
   "cell_type": "code",
   "execution_count": 54,
   "metadata": {
    "collapsed": false
   },
   "outputs": [
    {
     "name": "stdout",
     "output_type": "stream",
     "text": [
      "Model 1 error: 0.57304692286\n",
      "Model 2 error: 0.553709277228\n",
      "Model 3 error: 0.809047430242\n",
      "Model 4 error: 0.883349459816\n",
      "Model 5 error: 0.92553135119\n"
     ]
    }
   ],
   "source": [
    "print(\"Model 1 error: {0}\".format(calc_632_estimator(lreg1, models[0], Y)))\n",
    "print(\"Model 2 error: {0}\".format(calc_632_estimator(lreg1, models[1], Y)))\n",
    "print(\"Model 3 error: {0}\".format(calc_632_estimator(lreg1, models[2], Y)))\n",
    "print(\"Model 4 error: {0}\".format(calc_632_estimator(lreg1, models[3], Y)))\n",
    "print(\"Model 5 error: {0}\".format(calc_632_estimator(lreg1, models[4], Y)))"
   ]
  },
  {
   "cell_type": "markdown",
   "metadata": {},
   "source": [
    "## Question 3\n",
    "\n",
    "Fit a series of random-forest classifiers to the very low birthweight infant data (`vlbw.csv`), to explore the sensitivity to the parameter `m`, the number of variables considered for splitting at each step. Plot both the out-of-bag error as well as the test error against a suitably-chosen range of values for `m`."
   ]
  },
  {
   "cell_type": "code",
   "execution_count": 2,
   "metadata": {
    "collapsed": false
   },
   "outputs": [],
   "source": [
    "# Write your work here\n",
    "import pandas as pd\n",
    "import numpy as np\n",
    "\n",
    "vlbw = pd.read_csv(\"./vlbw.csv\", index_col=0)\n"
   ]
  },
  {
   "cell_type": "code",
   "execution_count": 3,
   "metadata": {
    "collapsed": false
   },
   "outputs": [],
   "source": [
    "vlbw.race = vlbw.race.replace({'white':1, 'black':0, 'native American':0, 'oriental':0})\n",
    "vlbw.inout = vlbw.inout.replace({'born at Duke':0, 'transported':1})\n",
    "vlbw.delivery = vlbw.delivery.replace({'vaginal':0, 'abdominal':1})\n",
    "vlbw.pvh = vlbw.pvh.replace({'absent':0, 'possible':1, 'definite':1})\n",
    "vlbw.ipe = vlbw.ipe.replace({'absent':0, 'possible':1, 'definite':1})\n",
    "vlbw.sex = vlbw.sex.replace({'male':0, 'female':1})"
   ]
  },
  {
   "cell_type": "code",
   "execution_count": 4,
   "metadata": {
    "collapsed": false
   },
   "outputs": [
    {
     "name": "stderr",
     "output_type": "stream",
     "text": [
      "C:\\Anaconda\\lib\\site-packages\\IPython\\kernel\\__main__.py:16: SettingWithCopyWarning: \n",
      "A value is trying to be set on a copy of a slice from a DataFrame\n",
      "\n",
      "See the caveats in the documentation: http://pandas.pydata.org/pandas-docs/stable/indexing.html#indexing-view-versus-copy\n",
      "C:\\Anaconda\\lib\\site-packages\\IPython\\kernel\\__main__.py:21: SettingWithCopyWarning: \n",
      "A value is trying to be set on a copy of a slice from a DataFrame\n",
      "\n",
      "See the caveats in the documentation: http://pandas.pydata.org/pandas-docs/stable/indexing.html#indexing-view-versus-copy\n"
     ]
    }
   ],
   "source": [
    "from sklearn.preprocessing import Imputer\n",
    "mean_imputer = Imputer(missing_values='NaN', strategy='mean', axis=1)\n",
    "median_imputer = Imputer(missing_values='NaN', strategy='median', axis=1)\n",
    "mode_imputer = Imputer(missing_values='NaN', strategy='most_frequent', axis=1)\n",
    "\n",
    "vlbw.birth = mean_imputer.fit_transform(vlbw.birth).T\n",
    "vlbw.exit = mean_imputer.fit_transform(vlbw.exit).T\n",
    "vlbw.hospstay = mean_imputer.fit_transform(vlbw.hospstay).T\n",
    "vlbw.lowph = mean_imputer.fit_transform(vlbw.lowph).T\n",
    "vlbw.pltct = mean_imputer.fit_transform(vlbw.pltct).T\n",
    "vlbw.bwt = mean_imputer.fit_transform(vlbw.bwt).T\n",
    "vlbw.gest = mean_imputer.fit_transform(vlbw.gest).T\n",
    "vlbw.inout = mode_imputer.fit_transform(vlbw.inout).T\n",
    "vlbw.race = mode_imputer.fit_transform(vlbw.race).T\n",
    "vlbw.twn = mode_imputer.fit_transform(vlbw.twn).T\n",
    "vlbw.lol[pd.isnull(vlbw.lol)] = np.median(vlbw.lol[~pd.isnull(vlbw.lol)]) \n",
    "vlbw.magsulf = mode_imputer.fit_transform(vlbw.magsulf).T\n",
    "vlbw.meth = mode_imputer.fit_transform(vlbw.meth).T\n",
    "vlbw.toc = mode_imputer.fit_transform(vlbw.toc).T\n",
    "vlbw.delivery = mode_imputer.fit_transform(vlbw.delivery).T\n",
    "vlbw.apg1[pd.isnull(vlbw.apg1)] =np.median(vlbw.lol[~pd.isnull(vlbw.apg1)]) # median_imputer.fit_transform(vlbw.apg1).T\n",
    "vlbw.vent = mode_imputer.fit_transform(vlbw.vent).T\n",
    "vlbw.pneumo = mode_imputer.fit_transform(vlbw.pneumo).T\n",
    "vlbw.pda = mode_imputer.fit_transform(vlbw.pda).T\n",
    "vlbw.cld = mode_imputer.fit_transform(vlbw.cld).T\n",
    "vlbw.pvh = mode_imputer.fit_transform(vlbw.pvh).T\n",
    "vlbw.ipe = mode_imputer.fit_transform(vlbw.ipe).T\n",
    "vlbw.year = mean_imputer.fit_transform(vlbw.year).T\n",
    "vlbw.sex = mode_imputer.fit_transform(vlbw.sex).T\n",
    "\n",
    "# let's get rid of the observations where IVH, our response variable\n",
    "# is NaN\n",
    "vlbw = vlbw.dropna()\n",
    "# Extract response variable\n",
    "Y = vlbw.ivh.replace({'absent':0, 'possible':1, 'definite':1})\n",
    "\n",
    "# make our predictor variables\n",
    "X = vlbw[['birth', 'exit', 'hospstay', 'lowph', 'pltct', 'bwt', 'gest', 'year']]\n",
    "X = (X - X.mean(axis=0)) / X.std(axis=0)\n",
    "X=pd.concat([X, vlbw[['inout', 'race', 'twn','lol', 'magsulf', \n",
    "                        'meth', 'toc', 'delivery', 'apg1', 'vent',\n",
    "                        'pneumo', 'pda', 'cld', 'pvh', 'sex']] ], axis=1)"
   ]
  },
  {
   "cell_type": "code",
   "execution_count": 5,
   "metadata": {
    "collapsed": false
   },
   "outputs": [],
   "source": [
    "from sklearn.ensemble import RandomForestClassifier\n",
    "from sklearn import cross_validation\n",
    "\n",
    "X_train, X_test, Y_train, Y_test = cross_validation.train_test_split(\n",
    "        X, Y, test_size=0.4, random_state=0)\n",
    "\n"
   ]
  },
  {
   "cell_type": "code",
   "execution_count": 6,
   "metadata": {
    "collapsed": false
   },
   "outputs": [
    {
     "name": "stderr",
     "output_type": "stream",
     "text": [
      "C:\\Anaconda\\lib\\site-packages\\sklearn\\ensemble\\forest.py:397: UserWarning: Some inputs do not have OOB scores. This probably means too few trees were used to compute any reliable oob estimates.\n",
      "  warn(\"Some inputs do not have OOB scores. \"\n"
     ]
    }
   ],
   "source": [
    "accuracy_scores = np.zeros([9,])\n",
    "for i in np.arange(1, 10, 1):\n",
    "    rf = RandomForestClassifier(max_features=float(i)/10, oob_score=True)\n",
    "    rf.fit(X_train, Y_train)\n",
    "    accuracy_scores[i-1] = rf.score(X_test, Y_test)\n",
    "    #preds = rf.predict(X_test)\n",
    "    #pd.crosstab(Y_test, preds, rownames=['actual'], \n",
    "#                 colnames=['prediction'])"
   ]
  },
  {
   "cell_type": "code",
   "execution_count": 7,
   "metadata": {
    "collapsed": false
   },
   "outputs": [],
   "source": [
    "oob_scores = np.zeros([9,])\n",
    "for i in np.arange(1, 10, 1):\n",
    "    rf = RandomForestClassifier(max_features=float(i)/10, oob_score=True)\n",
    "    rf.fit(X_train, Y_train)\n",
    "    # accuracy_scores[i-1] = rf.score(X_test, Y_test)\n",
    "    preds = rf.predict(X_test)\n",
    "    oob_scores[i-1] = rf.oob_score_"
   ]
  },
  {
   "cell_type": "code",
   "execution_count": 8,
   "metadata": {
    "collapsed": false
   },
   "outputs": [
    {
     "data": {
      "text/plain": [
       "array([ 0.81329114,  0.83544304,  0.80696203,  0.81012658,  0.82594937,\n",
       "        0.85126582,  0.80696203,  0.78481013,  0.78481013])"
      ]
     },
     "execution_count": 8,
     "metadata": {},
     "output_type": "execute_result"
    }
   ],
   "source": [
    "oob_scores"
   ]
  },
  {
   "cell_type": "code",
   "execution_count": 9,
   "metadata": {
    "collapsed": false
   },
   "outputs": [
    {
     "data": {
      "text/plain": [
       "array([ 0.87677725,  0.86729858,  0.87203791,  0.85781991,  0.8436019 ,\n",
       "        0.84834123,  0.83886256,  0.82938389,  0.83412322])"
      ]
     },
     "execution_count": 9,
     "metadata": {},
     "output_type": "execute_result"
    }
   ],
   "source": [
    "accuracy_scores"
   ]
  },
  {
   "cell_type": "code",
   "execution_count": 10,
   "metadata": {
    "collapsed": false
   },
   "outputs": [
    {
     "data": {
      "text/plain": [
       "<matplotlib.legend.Legend at 0x8936690>"
      ]
     },
     "execution_count": 10,
     "metadata": {},
     "output_type": "execute_result"
    },
    {
     "data": {
      "image/png": "[encoded data removed]",
      "text/plain": [
       "<matplotlib.figure.Figure at 0x830efd0>"
      ]
     },
     "metadata": {},
     "output_type": "display_data"
    }
   ],
   "source": [
    "%matplotlib inline\n",
    "import matplotlib.pyplot as plt\n",
    "fig, ax = plt.subplots()\n",
    "ax.plot(np.linspace(.1, 1, 10)[0:-1], accuracy_scores)\n",
    "ax.plot(np.linspace(.1, 1, 10)[0:-1], oob_scores)\n",
    "ax.set_ylabel('Score')\n",
    "ax.set_xlabel('m (as percent)')\n",
    "plt.legend(['Test Set Accuracy', 'OOB Score'])"
   ]
  },
  {
   "cell_type": "markdown",
   "metadata": {},
   "source": [
    "## Bonus: Question 4\n",
    "\n",
    "Use a grid search to optimize the number of estimators and max_depth for a Gradient Boosted Decision tree using the very low birthweight infant data. Plug this optimal ``max_depth`` into a *single* decision tree.  Does this single tree over-fit or under-fit the data? Repeat this for the Random Forest.  Construct a single decision tree using the ``max_depth`` which is optimal for the Random Forest.  Does this single tree over-fit or under-fit the data?"
   ]
  },
  {
   "cell_type": "code",
   "execution_count": null,
   "metadata": {
    "collapsed": true
   },
   "outputs": [],
   "source": [
    "# Write your work here"
   ]
  },
  {
   "cell_type": "code",
   "execution_count": null,
   "metadata": {
    "collapsed": false
   },
   "outputs": [],
   "source": []
  }
 ],
 "metadata": {
  "kernelspec": {
   "display_name": "Python 2",
   "language": "python",
   "name": "python2"
  },
  "language_info": {
   "codemirror_mode": {
    "name": "ipython",
    "version": 2
   },
   "file_extension": ".py",
   "mimetype": "text/x-python",
   "name": "python",
   "nbconvert_exporter": "python",
   "pygments_lexer": "ipython2",
   "version": "2.7.7"
  }
 },
 "nbformat": 4,
 "nbformat_minor": 0
}
